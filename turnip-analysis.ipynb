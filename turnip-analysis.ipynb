{
 "cells": [
  {
   "cell_type": "code",
   "execution_count": 1,
   "metadata": {},
   "outputs": [
    {
     "name": "stdout",
     "output_type": "stream",
     "text": [
      "Rows:  1065\n"
     ]
    },
    {
     "data": {
      "text/html": [
       "<div>\n",
       "<style scoped>\n",
       "    .dataframe tbody tr th:only-of-type {\n",
       "        vertical-align: middle;\n",
       "    }\n",
       "\n",
       "    .dataframe tbody tr th {\n",
       "        vertical-align: top;\n",
       "    }\n",
       "\n",
       "    .dataframe thead th {\n",
       "        text-align: right;\n",
       "    }\n",
       "</style>\n",
       "<table border=\"1\" class=\"dataframe\">\n",
       "  <thead>\n",
       "    <tr style=\"text-align: right;\">\n",
       "      <th></th>\n",
       "      <th>MonAM</th>\n",
       "      <th>MonPM</th>\n",
       "      <th>TueAM</th>\n",
       "      <th>TuePM</th>\n",
       "      <th>WedAM</th>\n",
       "      <th>WedPM</th>\n",
       "      <th>ThuAM</th>\n",
       "      <th>ThuPM</th>\n",
       "      <th>FriAM</th>\n",
       "      <th>FriPM</th>\n",
       "      <th>SatAM</th>\n",
       "      <th>SatPM</th>\n",
       "      <th>Sun</th>\n",
       "    </tr>\n",
       "  </thead>\n",
       "  <tbody>\n",
       "    <tr>\n",
       "      <th>0</th>\n",
       "      <td>67.0</td>\n",
       "      <td>64.0</td>\n",
       "      <td>60.0</td>\n",
       "      <td>57.0</td>\n",
       "      <td>52.0</td>\n",
       "      <td>118.0</td>\n",
       "      <td>91.0</td>\n",
       "      <td>142.0</td>\n",
       "      <td>NaN</td>\n",
       "      <td>NaN</td>\n",
       "      <td>NaN</td>\n",
       "      <td>NaN</td>\n",
       "      <td>NaN</td>\n",
       "    </tr>\n",
       "    <tr>\n",
       "      <th>1</th>\n",
       "      <td>79.0</td>\n",
       "      <td>75.0</td>\n",
       "      <td>72.0</td>\n",
       "      <td>69.0</td>\n",
       "      <td>65.0</td>\n",
       "      <td>61.0</td>\n",
       "      <td>115.0</td>\n",
       "      <td>110.0</td>\n",
       "      <td>NaN</td>\n",
       "      <td>NaN</td>\n",
       "      <td>NaN</td>\n",
       "      <td>NaN</td>\n",
       "      <td>NaN</td>\n",
       "    </tr>\n",
       "    <tr>\n",
       "      <th>2</th>\n",
       "      <td>78.0</td>\n",
       "      <td>76.0</td>\n",
       "      <td>74.0</td>\n",
       "      <td>70.0</td>\n",
       "      <td>60.0</td>\n",
       "      <td>63.0</td>\n",
       "      <td>136.0</td>\n",
       "      <td>135.0</td>\n",
       "      <td>NaN</td>\n",
       "      <td>NaN</td>\n",
       "      <td>NaN</td>\n",
       "      <td>NaN</td>\n",
       "      <td>NaN</td>\n",
       "    </tr>\n",
       "    <tr>\n",
       "      <th>3</th>\n",
       "      <td>137.0</td>\n",
       "      <td>111.0</td>\n",
       "      <td>153.0</td>\n",
       "      <td>161.0</td>\n",
       "      <td>154.0</td>\n",
       "      <td>50.0</td>\n",
       "      <td>50.0</td>\n",
       "      <td>55.0</td>\n",
       "      <td>NaN</td>\n",
       "      <td>NaN</td>\n",
       "      <td>NaN</td>\n",
       "      <td>NaN</td>\n",
       "      <td>NaN</td>\n",
       "    </tr>\n",
       "    <tr>\n",
       "      <th>4</th>\n",
       "      <td>48.0</td>\n",
       "      <td>46.0</td>\n",
       "      <td>43.0</td>\n",
       "      <td>41.0</td>\n",
       "      <td>38.0</td>\n",
       "      <td>36.0</td>\n",
       "      <td>107.0</td>\n",
       "      <td>122.0</td>\n",
       "      <td>NaN</td>\n",
       "      <td>NaN</td>\n",
       "      <td>NaN</td>\n",
       "      <td>NaN</td>\n",
       "      <td>NaN</td>\n",
       "    </tr>\n",
       "  </tbody>\n",
       "</table>\n",
       "</div>"
      ],
      "text/plain": [
       "   MonAM  MonPM  TueAM  TuePM  WedAM  WedPM  ThuAM  ThuPM  FriAM  FriPM  \\\n",
       "0   67.0   64.0   60.0   57.0   52.0  118.0   91.0  142.0    NaN    NaN   \n",
       "1   79.0   75.0   72.0   69.0   65.0   61.0  115.0  110.0    NaN    NaN   \n",
       "2   78.0   76.0   74.0   70.0   60.0   63.0  136.0  135.0    NaN    NaN   \n",
       "3  137.0  111.0  153.0  161.0  154.0   50.0   50.0   55.0    NaN    NaN   \n",
       "4   48.0   46.0   43.0   41.0   38.0   36.0  107.0  122.0    NaN    NaN   \n",
       "\n",
       "   SatAM  SatPM  Sun  \n",
       "0    NaN    NaN  NaN  \n",
       "1    NaN    NaN  NaN  \n",
       "2    NaN    NaN  NaN  \n",
       "3    NaN    NaN  NaN  \n",
       "4    NaN    NaN  NaN  "
      ]
     },
     "execution_count": 1,
     "metadata": {},
     "output_type": "execute_result"
    }
   ],
   "source": [
    "# get imports and load in data\n",
    "\n",
    "import pandas as pd\n",
    "import matplotlib.pyplot as plt\n",
    "\n",
    "cols = [\"MonAM\", \"MonPM\", \"TueAM\", \"TuePM\", \"WedAM\", \"WedPM\", \n",
    "        \"ThuAM\", \"ThuPM\", \"FriAM\", \"FriPM\", \"SatAM\", \"SatPM\", \"Sun\"]\n",
    "turnipDf = pd.read_csv(\"turnips.csv\", header=None,\n",
    "    names=cols)\n",
    "# reorder so we look at sunday first\n",
    "cols = [\"Sun\", \"MonAM\", \"MonPM\", \"TueAM\", \"TuePM\", \"WedAM\", \"WedPM\", \n",
    "        \"ThuAM\", \"ThuPM\", \"FriAM\", \"FriPM\", \"SatAM\", \"SatPM\"]\n",
    "print(\"Rows: \", len(turnipDf))\n",
    "turnipDf.head()"
   ]
  },
  {
   "cell_type": "code",
   "execution_count": 2,
   "metadata": {},
   "outputs": [
    {
     "name": "stdout",
     "output_type": "stream",
     "text": [
      "Rows:  262\n"
     ]
    },
    {
     "data": {
      "text/html": [
       "<div>\n",
       "<style scoped>\n",
       "    .dataframe tbody tr th:only-of-type {\n",
       "        vertical-align: middle;\n",
       "    }\n",
       "\n",
       "    .dataframe tbody tr th {\n",
       "        vertical-align: top;\n",
       "    }\n",
       "\n",
       "    .dataframe thead th {\n",
       "        text-align: right;\n",
       "    }\n",
       "</style>\n",
       "<table border=\"1\" class=\"dataframe\">\n",
       "  <thead>\n",
       "    <tr style=\"text-align: right;\">\n",
       "      <th></th>\n",
       "      <th>MonAM</th>\n",
       "      <th>MonPM</th>\n",
       "      <th>TueAM</th>\n",
       "      <th>TuePM</th>\n",
       "      <th>WedAM</th>\n",
       "      <th>WedPM</th>\n",
       "      <th>ThuAM</th>\n",
       "      <th>ThuPM</th>\n",
       "      <th>FriAM</th>\n",
       "      <th>FriPM</th>\n",
       "      <th>SatAM</th>\n",
       "      <th>SatPM</th>\n",
       "      <th>Sun</th>\n",
       "    </tr>\n",
       "  </thead>\n",
       "  <tbody>\n",
       "    <tr>\n",
       "      <th>25</th>\n",
       "      <td>95.0</td>\n",
       "      <td>91.0</td>\n",
       "      <td>86.0</td>\n",
       "      <td>82.0</td>\n",
       "      <td>78.0</td>\n",
       "      <td>74.0</td>\n",
       "      <td>69.0</td>\n",
       "      <td>126.0</td>\n",
       "      <td>192.0</td>\n",
       "      <td>631.0</td>\n",
       "      <td>159.0</td>\n",
       "      <td>99.0</td>\n",
       "      <td>107.0</td>\n",
       "    </tr>\n",
       "    <tr>\n",
       "      <th>27</th>\n",
       "      <td>72.0</td>\n",
       "      <td>68.0</td>\n",
       "      <td>62.0</td>\n",
       "      <td>58.0</td>\n",
       "      <td>52.0</td>\n",
       "      <td>50.0</td>\n",
       "      <td>149.0</td>\n",
       "      <td>118.0</td>\n",
       "      <td>186.0</td>\n",
       "      <td>208.0</td>\n",
       "      <td>180.0</td>\n",
       "      <td>55.0</td>\n",
       "      <td>93.0</td>\n",
       "    </tr>\n",
       "    <tr>\n",
       "      <th>41</th>\n",
       "      <td>60.0</td>\n",
       "      <td>113.0</td>\n",
       "      <td>96.0</td>\n",
       "      <td>136.0</td>\n",
       "      <td>152.0</td>\n",
       "      <td>133.0</td>\n",
       "      <td>52.0</td>\n",
       "      <td>48.0</td>\n",
       "      <td>42.0</td>\n",
       "      <td>42.0</td>\n",
       "      <td>39.0</td>\n",
       "      <td>34.0</td>\n",
       "      <td>104.0</td>\n",
       "    </tr>\n",
       "    <tr>\n",
       "      <th>47</th>\n",
       "      <td>68.0</td>\n",
       "      <td>65.0</td>\n",
       "      <td>62.0</td>\n",
       "      <td>59.0</td>\n",
       "      <td>55.0</td>\n",
       "      <td>51.0</td>\n",
       "      <td>132.0</td>\n",
       "      <td>99.0</td>\n",
       "      <td>168.0</td>\n",
       "      <td>192.0</td>\n",
       "      <td>190.0</td>\n",
       "      <td>63.0</td>\n",
       "      <td>99.0</td>\n",
       "    </tr>\n",
       "    <tr>\n",
       "      <th>51</th>\n",
       "      <td>69.0</td>\n",
       "      <td>65.0</td>\n",
       "      <td>100.0</td>\n",
       "      <td>116.0</td>\n",
       "      <td>161.0</td>\n",
       "      <td>191.0</td>\n",
       "      <td>169.0</td>\n",
       "      <td>90.0</td>\n",
       "      <td>86.0</td>\n",
       "      <td>82.0</td>\n",
       "      <td>79.0</td>\n",
       "      <td>72.0</td>\n",
       "      <td>102.0</td>\n",
       "    </tr>\n",
       "  </tbody>\n",
       "</table>\n",
       "</div>"
      ],
      "text/plain": [
       "    MonAM  MonPM  TueAM  TuePM  WedAM  WedPM  ThuAM  ThuPM  FriAM  FriPM  \\\n",
       "25   95.0   91.0   86.0   82.0   78.0   74.0   69.0  126.0  192.0  631.0   \n",
       "27   72.0   68.0   62.0   58.0   52.0   50.0  149.0  118.0  186.0  208.0   \n",
       "41   60.0  113.0   96.0  136.0  152.0  133.0   52.0   48.0   42.0   42.0   \n",
       "47   68.0   65.0   62.0   59.0   55.0   51.0  132.0   99.0  168.0  192.0   \n",
       "51   69.0   65.0  100.0  116.0  161.0  191.0  169.0   90.0   86.0   82.0   \n",
       "\n",
       "    SatAM  SatPM    Sun  \n",
       "25  159.0   99.0  107.0  \n",
       "27  180.0   55.0   93.0  \n",
       "41   39.0   34.0  104.0  \n",
       "47  190.0   63.0   99.0  \n",
       "51   79.0   72.0  102.0  "
      ]
     },
     "execution_count": 2,
     "metadata": {},
     "output_type": "execute_result"
    }
   ],
   "source": [
    "# get dataframe with just complete data\n",
    "\n",
    "compTurnipDf = turnipDf.dropna()\n",
    "print(\"Rows: \", len(compTurnipDf))\n",
    "compTurnipDf.head()"
   ]
  },
  {
   "cell_type": "code",
   "execution_count": 3,
   "metadata": {},
   "outputs": [
    {
     "name": "stdout",
     "output_type": "stream",
     "text": [
      "Instances of buy prices:  959\n",
      "Lowest buy price:  1.0\n",
      "Highest buy price:  150.0\n"
     ]
    },
    {
     "data": {
      "image/png": "[encoded data removed]",
      "text/plain": [
       "<Figure size 432x288 with 1 Axes>"
      ]
     },
     "metadata": {
      "needs_background": "light"
     },
     "output_type": "display_data"
    },
    {
     "data": {
      "image/png": "[encoded data removed]",
      "text/plain": [
       "<Figure size 432x288 with 1 Axes>"
      ]
     },
     "metadata": {
      "needs_background": "light"
     },
     "output_type": "display_data"
    }
   ],
   "source": [
    "# some basic summary data from all data (including incomplete)\n",
    "\n",
    "buyPrices = turnipDf[\"Sun\"].dropna().tolist()\n",
    "\n",
    "print(\"Instances of buy prices: \", len(buyPrices))\n",
    "print(\"Lowest buy price: \", min(buyPrices)) # might be erranous\n",
    "print(\"Highest buy price: \", max(buyPrices))\n",
    "\n",
    "plt.hist(buyPrices)\n",
    "plt.title(\"Buy Prices\")\n",
    "plt.xlabel(\"Price\")\n",
    "plt.ylabel(\"Instances\")\n",
    "plt.show()\n",
    "\n",
    "plt.boxplot(buyPrices, labels=[\"\"])\n",
    "plt.title(\"Buy Prices\")\n",
    "plt.ylabel(\"Price\")\n",
    "plt.show()"
   ]
  },
  {
   "cell_type": "code",
   "execution_count": 4,
   "metadata": {},
   "outputs": [
    {
     "name": "stdout",
     "output_type": "stream",
     "text": [
      "Lowest buy price (complete data):  90.0\n",
      "Highest buy price (complete data):  137.0\n",
      "\n",
      "Lowest sell(able) price (complete data):  10.0\n",
      "Highest sell(able) price (complete data):  631.0\n"
     ]
    },
    {
     "data": {
      "image/png": "[encoded data removed]",
      "text/plain": [
       "<Figure size 720x432 with 1 Axes>"
      ]
     },
     "metadata": {
      "needs_background": "light"
     },
     "output_type": "display_data"
    }
   ],
   "source": [
    "# Look at only complete data for overall analysis of prices as\n",
    "# incomplete data may be biased due to not tracking after sale.\n",
    "\n",
    "print(\"Lowest buy price (complete data): \", min(compTurnipDf[\"Sun\"]))\n",
    "print(\"Highest buy price (complete data): \", max(compTurnipDf[\"Sun\"]))\n",
    "print(\"\\nLowest sell(able) price (complete data): \", compTurnipDf.drop(\"Sun\", axis=1).to_numpy().min())\n",
    "print(\"Highest sell(able) price (complete data): \", compTurnipDf.drop(\"Sun\", axis=1).to_numpy().max())\n",
    "\n",
    "plt.figure(figsize=(10,6))\n",
    "plt.boxplot([compTurnipDf[col] for col in cols], labels=cols,\n",
    "           showfliers=False)\n",
    "plt.title(\"Prices per day\")\n",
    "plt.xlabel(\"Day + AM/PM\")\n",
    "plt.ylabel(\"Price\")\n",
    "plt.show()"
   ]
  },
  {
   "cell_type": "code",
   "execution_count": 5,
   "metadata": {},
   "outputs": [
    {
     "data": {
      "image/png": "[encoded data removed]",
      "text/plain": [
       "<Figure size 720x432 with 1 Axes>"
      ]
     },
     "metadata": {
      "needs_background": "light"
     },
     "output_type": "display_data"
    }
   ],
   "source": [
    "# average price tragectory through week\n",
    "\n",
    "plt.figure(figsize=(10,6))\n",
    "plt.plot(cols, [compTurnipDf[col].mean() for col in cols])\n",
    "plt.title(\"Average Price through Week\")\n",
    "plt.xlabel(\"Day + AM/PM\")\n",
    "plt.ylabel(\"Price\")\n",
    "plt.show()"
   ]
  },
  {
   "cell_type": "code",
   "execution_count": null,
   "metadata": {},
   "outputs": [],
   "source": []
  }
 ],
 "metadata": {
  "kernelspec": {
   "display_name": "Python 3",
   "language": "python",
   "name": "python3"
  },
  "language_info": {
   "codemirror_mode": {
    "name": "ipython",
    "version": 3
   },
   "file_extension": ".py",
   "mimetype": "text/x-python",
   "name": "python",
   "nbconvert_exporter": "python",
   "pygments_lexer": "ipython3",
   "version": "3.7.3"
  }
 },
 "nbformat": 4,
 "nbformat_minor": 2
}
